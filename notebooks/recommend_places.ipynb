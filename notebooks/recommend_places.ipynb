{
 "cells": [
  {
   "cell_type": "code",
   "execution_count": 1,
   "metadata": {},
   "outputs": [],
   "source": [
    "import sys\n",
    "sys.path.append('../')\n",
    "\n",
    "from autogpt.config import Config\n",
    "import json\n",
    "import requests\n",
    "import yaml\n",
    "\n",
    "from duckduckgo_search import ddg\n",
    "from bs4 import BeautifulSoup\n",
    "\n",
    "\n",
    "CFG = Config()"
   ]
  },
  {
   "cell_type": "code",
   "execution_count": 2,
   "metadata": {},
   "outputs": [],
   "source": [
    "import re\n",
    "import copy\n",
    "from pathlib import Path\n",
    "import concurrent.futures\n",
    "\n",
    "from selenium import webdriver\n",
    "from selenium.webdriver.common.keys import Keys\n",
    "from selenium.webdriver.chrome.options import Options as ChromeOptions\n",
    "\n",
    "from selenium.webdriver.support.ui import WebDriverWait\n",
    "from selenium.webdriver.support import expected_conditions as EC\n",
    "from selenium.webdriver.common.by import By\n",
    "\n",
    "from webdriver_manager.chrome import ChromeDriverManager\n",
    "from sys import platform\n",
    "\n",
    "import time\n",
    "from bs4 import BeautifulSoup\n",
    "import requests"
   ]
  },
  {
   "attachments": {},
   "cell_type": "markdown",
   "metadata": {},
   "source": [
    "## Recommend Travel Itinerary"
   ]
  },
  {
   "cell_type": "code",
   "execution_count": 3,
   "metadata": {},
   "outputs": [],
   "source": [
    "from autogpt.commands.naver_travel import load_driver\n",
    "from autogpt.commands.naver_travel import latlng2kor_address\n",
    "from autogpt.commands.naver_travel import kor_address2latlng\n",
    "from autogpt.commands.naver_travel import get_kor_weather_info\n",
    "from autogpt.commands.google_search import google_search_place\n",
    "\n",
    "from autogpt.commands.naver_travel import get_place_header\n",
    "from autogpt.commands.naver_travel import get_place_main_info\n",
    "from autogpt.commands.naver_travel import get_place_reviews\n",
    "\n",
    "from autogpt.commands.naver_travel import kor_tourism_places_nearby_latlng\n",
    "from autogpt.commands.naver_travel import summarize_reviews\n",
    "from autogpt.commands.naver_travel import summarize_place_infos\n",
    "\n",
    "from autogpt.commands.naver_travel import get_chatgpt_response \n",
    "\n",
    "from autogpt.commands.naver_travel import kor_nearby_search_details\n",
    "from autogpt.commands.naver_travel import kor_nearby_search_summary\n",
    "from autogpt.commands.naver_travel import kor_nearby_search_summary_and_save_details_to_file\n",
    "\n",
    "from autogpt.commands.naver_travel import distance_matrix"
   ]
  },
  {
   "cell_type": "code",
   "execution_count": 4,
   "metadata": {},
   "outputs": [],
   "source": [
    "import json\n",
    "import urllib\n",
    "from urllib.request import Request, urlopen"
   ]
  },
  {
   "cell_type": "code",
   "execution_count": 5,
   "metadata": {},
   "outputs": [],
   "source": [
    "result = google_search_place('남한산성입구역')"
   ]
  },
  {
   "cell_type": "code",
   "execution_count": 6,
   "metadata": {},
   "outputs": [
    {
     "data": {
      "text/plain": [
       "[{'name': '남한산성입구',\n",
       "  'address_components': [],\n",
       "  'rating': 4,\n",
       "  'types': ['subway_station',\n",
       "   'transit_station',\n",
       "   'point_of_interest',\n",
       "   'establishment'],\n",
       "  'location': {'lat': 37.451548, 'lng': 127.159837}}]"
      ]
     },
     "execution_count": 6,
     "metadata": {},
     "output_type": "execute_result"
    }
   ],
   "source": [
    "json.loads(result)"
   ]
  },
  {
   "cell_type": "code",
   "execution_count": 7,
   "metadata": {},
   "outputs": [],
   "source": [
    "location = json.loads(result)[0]['location']\n",
    "latitude, longitude = location['lat'], location['lng']"
   ]
  },
  {
   "cell_type": "code",
   "execution_count": 8,
   "metadata": {},
   "outputs": [],
   "source": [
    "# address_error = \"Gyeonggang-ro, Gangneung-si, Gangwon-do\"\n",
    "# address_error = \"강원도 강릉시 경강로 파도살롱\"\n",
    "\n",
    "# tourism_places = kor_tourism_places_nearby_latlng(address_error)\n",
    "# kor_tourism_places_nearby_latlng(latitude, longitude, query='')"
   ]
  },
  {
   "cell_type": "code",
   "execution_count": 9,
   "metadata": {},
   "outputs": [],
   "source": [
    "# weather = get_kor_weather_info(latitude=37.5665, longitude=126.9780)\n",
    "# json.loads(weather)"
   ]
  },
  {
   "cell_type": "code",
   "execution_count": 10,
   "metadata": {},
   "outputs": [],
   "source": [
    "import os"
   ]
  },
  {
   "cell_type": "code",
   "execution_count": 11,
   "metadata": {},
   "outputs": [],
   "source": [
    "args = {'latitude': 37.4546453, 'longitude': 127.1601717, 'place_type': 'DINING', 'sort': 1, 'goal': '남한산성 근처 맛집 찾아줘', 'work_dir': '여행_봇', 'project_name': '여행_일정', 'max_results': 5}"
   ]
  },
  {
   "cell_type": "code",
   "execution_count": 14,
   "metadata": {},
   "outputs": [],
   "source": [
    "result = kor_nearby_search_summary_and_save_details_to_file(**args)"
   ]
  },
  {
   "cell_type": "code",
   "execution_count": null,
   "metadata": {},
   "outputs": [],
   "source": [
    "json.loads(result)"
   ]
  }
 ],
 "metadata": {
  "kernelspec": {
   "display_name": "Python 3",
   "language": "python",
   "name": "python3"
  },
  "language_info": {
   "codemirror_mode": {
    "name": "ipython",
    "version": 3
   },
   "file_extension": ".py",
   "mimetype": "text/x-python",
   "name": "python",
   "nbconvert_exporter": "python",
   "pygments_lexer": "ipython3",
   "version": "3.10.9"
  },
  "orig_nbformat": 4
 },
 "nbformat": 4,
 "nbformat_minor": 2
}
