{
 "cells": [
  {
   "cell_type": "code",
   "execution_count": 27,
   "metadata": {},
   "outputs": [],
   "source": [
    "import sys\n",
    "sys.path.append('../')\n",
    "\n",
    "from autogpt.config import Config\n",
    "from autogpt.commands.command import command\n",
    "import json\n",
    "import requests\n",
    "import yaml\n",
    "\n",
    "from duckduckgo_search import ddg\n",
    "\n",
    "\n",
    "CFG = Config()"
   ]
  },
  {
   "attachments": {},
   "cell_type": "markdown",
   "metadata": {},
   "source": [
    "## NAVER MAP API\n",
    "https://developers.naver.com/docs/serviceapi/search/movie/movie.md#%EC%98%81%ED%99%94"
   ]
  },
  {
   "cell_type": "code",
   "execution_count": 29,
   "metadata": {},
   "outputs": [],
   "source": [
    "import json\n",
    "import urllib\n",
    "from urllib.request import Request, urlopen\n",
    "\n",
    "def get_lng_lat_by_address(address):\n",
    "    client_id = CFG.naver_api_id\n",
    "    client_secret = CFG.naver_api_client_secret \n",
    "    url = f\"https://naveropenapi.apigw.ntruss.com/map-geocode/v2/geocode?query=\" \\\n",
    "    \t\t\t+ urllib.parse.quote(address)\n",
    "    \n",
    "    request = urllib.request.Request(url)\n",
    "    request.add_header('X-NCP-APIGW-API-KEY-ID', client_id)\n",
    "    request.add_header('X-NCP-APIGW-API-KEY', client_secret)\n",
    "    response = urlopen(request)\n",
    "    res = response.getcode()\n",
    "    \n",
    "    if (res == 200):\n",
    "        response_body = response.read().decode('utf-8')\n",
    "        response_body = json.loads(response_body)\n",
    "        print(response_body)\n",
    "\n",
    "        if response_body['meta']['totalCount'] == 1 : \n",
    "            lng = response_body['addresses'][0]['x']\n",
    "            lat = response_body['addresses'][0]['y']\n",
    "            \n",
    "            return (lng, lat)\n",
    "        else:\n",
    "            print('address does not exist')\n",
    "        \n",
    "    else:\n",
    "        print(f'address: {address} Error Code: {res}')\n"
   ]
  },
  {
   "cell_type": "code",
   "execution_count": null,
   "metadata": {},
   "outputs": [],
   "source": [
    "start = '파도살롱'\n",
    "goal = '안목살롱'\n",
    "waypoint = ''\n",
    "\n",
    "start = get_lng_lat_by_location(start)\n",
    "end = get_lng_lat_by_location(goal)\n",
    "waypoint = get_lng_lat_by_location(waypoint)"
   ]
  },
  {
   "cell_type": "code",
   "execution_count": 30,
   "metadata": {},
   "outputs": [
    {
     "name": "stdout",
     "output_type": "stream",
     "text": [
      "{'status': 'OK', 'meta': {'totalCount': 1, 'page': 1, 'count': 1}, 'addresses': [{'roadAddress': '서울특별시 강남구', 'jibunAddress': '서울특별시 강남구', 'englishAddress': 'Gangnam-gu, Seoul, Republic of Korea', 'addressElements': [{'types': ['SIDO'], 'longName': '서울특별시', 'shortName': '서울특별시', 'code': ''}, {'types': ['SIGUGUN'], 'longName': '강남구', 'shortName': '강남구', 'code': ''}, {'types': ['DONGMYUN'], 'longName': '', 'shortName': '', 'code': ''}, {'types': ['RI'], 'longName': '', 'shortName': '', 'code': ''}, {'types': ['ROAD_NAME'], 'longName': '', 'shortName': '', 'code': ''}, {'types': ['BUILDING_NUMBER'], 'longName': '', 'shortName': '', 'code': ''}, {'types': ['BUILDING_NAME'], 'longName': '', 'shortName': '', 'code': ''}, {'types': ['LAND_NUMBER'], 'longName': '', 'shortName': '', 'code': ''}, {'types': ['POSTAL_CODE'], 'longName': '', 'shortName': '', 'code': ''}], 'x': '127.047502', 'y': '37.517305', 'distance': 0.0}], 'errorMessage': ''}\n"
     ]
    },
    {
     "data": {
      "text/plain": [
       "('127.047502', '37.517305')"
      ]
     },
     "execution_count": 30,
     "metadata": {},
     "output_type": "execute_result"
    }
   ],
   "source": [
    "get_lng_lat_by_location(\"강남구\")"
   ]
  },
  {
   "cell_type": "code",
   "execution_count": 34,
   "metadata": {},
   "outputs": [
    {
     "ename": "AssertionError",
     "evalue": "start must be a tuple of (lng, lat)",
     "output_type": "error",
     "traceback": [
      "\u001b[0;31m---------------------------------------------------------------------------\u001b[0m",
      "\u001b[0;31mAssertionError\u001b[0m                            Traceback (most recent call last)",
      "Cell \u001b[0;32mIn[34], line 28\u001b[0m\n\u001b[1;32m     25\u001b[0m         \u001b[39mprint\u001b[39m(\u001b[39mf\u001b[39m\u001b[39m'\u001b[39m\u001b[39mstart: \u001b[39m\u001b[39m{\u001b[39;00mstart\u001b[39m}\u001b[39;00m\u001b[39m goal: \u001b[39m\u001b[39m{\u001b[39;00mgoal\u001b[39m}\u001b[39;00m\u001b[39m, waypoints: \u001b[39m\u001b[39m{\u001b[39;00mwaypoints\u001b[39m}\u001b[39;00m\u001b[39m, Error Code: \u001b[39m\u001b[39m{\u001b[39;00mrescode\u001b[39m}\u001b[39;00m\u001b[39m'\u001b[39m)\n\u001b[1;32m     26\u001b[0m         \u001b[39mreturn\u001b[39;00m \u001b[39mNone\u001b[39;00m\n\u001b[0;32m---> 28\u001b[0m get_optimal_route(start, goal)\n",
      "Cell \u001b[0;32mIn[34], line 5\u001b[0m, in \u001b[0;36mget_optimal_route\u001b[0;34m(start, goal, waypoints, option)\u001b[0m\n\u001b[1;32m      2\u001b[0m client_id \u001b[39m=\u001b[39m CFG\u001b[39m.\u001b[39mnaver_api_id\n\u001b[1;32m      3\u001b[0m client_secret \u001b[39m=\u001b[39m CFG\u001b[39m.\u001b[39mnaver_api_client_secret\n\u001b[0;32m----> 5\u001b[0m \u001b[39massert\u001b[39;00m start, \u001b[39m'\u001b[39m\u001b[39mstart must be a tuple of (lng, lat)\u001b[39m\u001b[39m'\u001b[39m\n\u001b[1;32m      6\u001b[0m \u001b[39massert\u001b[39;00m goal, \u001b[39m'\u001b[39m\u001b[39mgoal must be a tuple of (lng, lat)\u001b[39m\u001b[39m'\u001b[39m\n\u001b[1;32m      8\u001b[0m \u001b[39massert\u001b[39;00m \u001b[39mlen\u001b[39m(start) \u001b[39m==\u001b[39m \u001b[39m2\u001b[39m, \u001b[39m'\u001b[39m\u001b[39mstart must be a tuple of (lng, lat)\u001b[39m\u001b[39m'\u001b[39m\n",
      "\u001b[0;31mAssertionError\u001b[0m: start must be a tuple of (lng, lat)"
     ]
    }
   ],
   "source": [
    "def get_optimal_route(start, goal, waypoints=None, option=''):\n",
    "    assert start, 'start must be a tuple of (lng, lat)'\n",
    "    assert goal, 'goal must be a tuple of (lng, lat)'\n",
    "\n",
    "    assert len(start) == 2, 'start must be a tuple of (lng, lat)'\n",
    "    assert len(goal) == 2, 'goal must be a tuple of (lng, lat)'\n",
    "\n",
    "    waypoints = '|'.join([f\"{point[0]},{point[1]}\" for point in waypoints]) if waypoints else ''\n",
    "    url = f\"https://naveropenapi.apigw.ntruss.com/map-direction-15/v1/driving?start={start[0]},{start[1]}&goal={goal[0]},{goal[1]}&waypoints={waypoints}&option={option}\"\n",
    "\n",
    "    client_id = CFG.naver_api_id\n",
    "    client_secret = CFG.naver_api_client_secret\n",
    "    \n",
    "    request = urllib.request.Request(url)\n",
    "    request.add_header('X-NCP-APIGW-API-KEY-ID', client_id)\n",
    "    request.add_header('X-NCP-APIGW-API-KEY', client_secret)\n",
    "    \n",
    "    response = urllib.request.urlopen(request)\n",
    "    rescode = response.getcode()\n",
    "    \n",
    "    if (rescode == 200):\n",
    "        response_body = response.read().decode('utf-8')\n",
    "        return json.loads(response_body)\n",
    "    else:\n",
    "        print(f'start: {start} goal: {goal}, waypoints: {waypoints}, Error Code: {rescode}')\n",
    "        return None\n",
    "\n",
    "get_optimal_route(start, goal)\n"
   ]
  },
  {
   "cell_type": "code",
   "execution_count": 36,
   "metadata": {},
   "outputs": [],
   "source": [
    "\n",
    "import requests\n",
    "import re\n",
    "\n",
    "def find_nearby_restaurants(location):\n",
    "    # 음식점 검색\n",
    "    url = \"https://openapi.naver.com/v1/search/local\"\n",
    "\n",
    "    client_id = CFG.naver_api_id\n",
    "    client_secret = CFG.naver_api_client_secret\n",
    "    \n",
    "    headers = {\n",
    "        \"X-Naver-Client-Id\": client_id,\n",
    "        \"X-Naver-Client-Secret\": client_secret\n",
    "    }\n",
    "    params = {\n",
    "        \"query\": f\"{location} 음식점\",\n",
    "        \"display\": 10,\n",
    "        \"start\": 1,\n",
    "        \"sort\": \"random\"\n",
    "    }\n",
    "    response = requests.get(url, headers=headers, params=params)\n",
    "    result = response.json()\n",
    "\n",
    "    restaurants = []\n",
    "    for item in result['items']:\n",
    "        name = item['title'].replace('<b>', '').replace('</b>', '')\n",
    "        address = item['address']\n",
    "\n",
    "        # 별점 추정\n",
    "        url = \"https://openapi.naver.com/v1/search/blog\"\n",
    "        params = {\n",
    "            \"query\": f\"{name} {address} 리뷰\",\n",
    "            \"display\": 5\n",
    "        }\n",
    "        response = requests.get(url, headers=headers, params=params)\n",
    "        blog_result = response.json()\n",
    "\n",
    "        ratings = []\n",
    "        for blog in blog_result['items']:\n",
    "            # 별점 정보가 포함된 문자열을 찾습니다 (예: 별점: 4.5, 평점: 3.0 등).\n",
    "            match = re.search(r'별점\\s*:\\s*([\\d.]+)|평점\\s*:\\s*([\\d.]+)', blog['description'])\n",
    "            if match:\n",
    "                rating = match.group(1) or match.group(2)\n",
    "                ratings.append(float(rating))\n",
    "\n",
    "        # 별점 평균 계산\n",
    "        if ratings:\n",
    "            avg_rating = sum(ratings) / len(ratings)\n",
    "            restaurant = f\"{name} ({address}) - 별점: {avg_rating:.1f}\"\n",
    "        else:\n",
    "            restaurant = f\"{name} ({address}) - 별점 정보 없음\"\n",
    "\n",
    "        restaurants.append(restaurant)\n",
    "\n",
    "    return restaurants\n"
   ]
  },
  {
   "cell_type": "code",
   "execution_count": 38,
   "metadata": {},
   "outputs": [],
   "source": [
    "# 음식점 검색\n",
    "url = \"https://openapi.naver.com/v1/search/local\"\n",
    "\n",
    "client_id = CFG.naver_api_id\n",
    "client_secret = CFG.naver_api_client_secret\n",
    "\n",
    "headers = {\n",
    "    \"X-Naver-Client-Id\": client_id,\n",
    "    \"X-Naver-Client-Secret\": client_secret\n",
    "}\n",
    "params = {\n",
    "    \"query\": f\"{location} 음식점\",\n",
    "    \"display\": 10,\n",
    "    \"start\": 1,\n",
    "    \"sort\": \"random\"\n",
    "}\n",
    "response = requests.get(url, headers=headers, params=params)\n",
    "result = response.json()# "
   ]
  },
  {
   "cell_type": "code",
   "execution_count": 39,
   "metadata": {},
   "outputs": [
    {
     "data": {
      "text/plain": [
       "{'errorMessage': 'NID AUTH Result Invalid (1000) : Authentication failed. (인증에 실패했습니다.)',\n",
       " 'errorCode': '024'}"
      ]
     },
     "execution_count": 39,
     "metadata": {},
     "output_type": "execute_result"
    }
   ],
   "source": [
    "result"
   ]
  },
  {
   "cell_type": "code",
   "execution_count": 37,
   "metadata": {},
   "outputs": [
    {
     "ename": "KeyError",
     "evalue": "'items'",
     "output_type": "error",
     "traceback": [
      "\u001b[0;31m---------------------------------------------------------------------------\u001b[0m",
      "\u001b[0;31mKeyError\u001b[0m                                  Traceback (most recent call last)",
      "Cell \u001b[0;32mIn[37], line 2\u001b[0m\n\u001b[1;32m      1\u001b[0m location \u001b[39m=\u001b[39m \u001b[39m\"\u001b[39m\u001b[39m서울역\u001b[39m\u001b[39m\"\u001b[39m\n\u001b[0;32m----> 2\u001b[0m restaurants \u001b[39m=\u001b[39m find_nearby_restaurants(location)\n\u001b[1;32m      4\u001b[0m \u001b[39mfor\u001b[39;00m restaurant \u001b[39min\u001b[39;00m restaurants:\n\u001b[1;32m      5\u001b[0m     \u001b[39mprint\u001b[39m(restaurant)\n",
      "Cell \u001b[0;32mIn[36], line 25\u001b[0m, in \u001b[0;36mfind_nearby_restaurants\u001b[0;34m(location)\u001b[0m\n\u001b[1;32m     22\u001b[0m result \u001b[39m=\u001b[39m response\u001b[39m.\u001b[39mjson()\n\u001b[1;32m     24\u001b[0m restaurants \u001b[39m=\u001b[39m []\n\u001b[0;32m---> 25\u001b[0m \u001b[39mfor\u001b[39;00m item \u001b[39min\u001b[39;00m result[\u001b[39m'\u001b[39;49m\u001b[39mitems\u001b[39;49m\u001b[39m'\u001b[39;49m]:\n\u001b[1;32m     26\u001b[0m     name \u001b[39m=\u001b[39m item[\u001b[39m'\u001b[39m\u001b[39mtitle\u001b[39m\u001b[39m'\u001b[39m]\u001b[39m.\u001b[39mreplace(\u001b[39m'\u001b[39m\u001b[39m<b>\u001b[39m\u001b[39m'\u001b[39m, \u001b[39m'\u001b[39m\u001b[39m'\u001b[39m)\u001b[39m.\u001b[39mreplace(\u001b[39m'\u001b[39m\u001b[39m</b>\u001b[39m\u001b[39m'\u001b[39m, \u001b[39m'\u001b[39m\u001b[39m'\u001b[39m)\n\u001b[1;32m     27\u001b[0m     address \u001b[39m=\u001b[39m item[\u001b[39m'\u001b[39m\u001b[39maddress\u001b[39m\u001b[39m'\u001b[39m]\n",
      "\u001b[0;31mKeyError\u001b[0m: 'items'"
     ]
    }
   ],
   "source": [
    "location = \"서울역\"\n",
    "restaurants = find_nearby_restaurants(location)\n",
    "\n",
    "for restaurant in restaurants:\n",
    "    print(restaurant)"
   ]
  },
  {
   "cell_type": "code",
   "execution_count": null,
   "metadata": {},
   "outputs": [],
   "source": [
    "url = \"https://openapi.naver.com/v1/search/local\"\n",
    "\n",
    "client_id = CFG.naver_api_id\n",
    "client_secret = CFG.naver_api_client_secret\n",
    "\n",
    "headers = {\n",
    "    \"X-Naver-Client-Id\": client_id,\n",
    "    \"X-Naver-Client-Secret\": client_secret\n",
    "}\n",
    "params = {\n",
    "    \"query\": f\"{location} 음식점\",\n",
    "    \"display\": 10,\n",
    "    \"start\": 1,\n",
    "    \"sort\": \"random\"\n",
    "}\n",
    "response = requests.get(url, headers=headers, params=params)\n",
    "result = response.json()\n",
    "\n",
    "restaurants = []\n",
    "for item in result['items']:\n",
    "    name = item['title'].replace('<b>', '').replace('</b>', '')\n",
    "    address = item['address']\n",
    "\n",
    "    # 별점 추정\n",
    "    url = \"https://openapi.naver.com/v1/search/blog\"\n",
    "    params = {\n",
    "        \"query\": f\"{name} {address} 리뷰\",\n",
    "        \"display\": 5\n",
    "    }\n",
    "    response = requests.get(url, headers=headers, params=params)\n",
    "    blog_result = response.json()\n",
    "\n",
    "    ratings = []\n",
    "    for blog in blog_result['items']:\n",
    "        # 별점 정보가 포함된 문자열을 찾습니다 (예: 별점: 4.5, 평점: 3.0 등).\n",
    "        match = re.search(r'별점\\s*:\\s*([\\d.]+)|평점\\s*:\\s*([\\d.]+)', blog['description'])\n",
    "        if match:\n",
    "            rating = match.group(1) or match.group(2)\n",
    "            ratings.append(float(rating))\n",
    "\n",
    "    # 별점 평균 계산\n",
    "    if ratings:\n",
    "        avg_rating = sum(ratings) / len(ratings)\n",
    "        restaurant = f\"{name} ({address}) - 별점: {avg_rating:.1f}\"\n",
    "    else:\n",
    "        restaurant = f\"{name} ({address}) - 별점 정보 없음\"\n",
    "\n",
    "    restaurants.append(restaurant)"
   ]
  },
  {
   "cell_type": "code",
   "execution_count": null,
   "metadata": {},
   "outputs": [],
   "source": []
  }
 ],
 "metadata": {
  "kernelspec": {
   "display_name": "Python 3",
   "language": "python",
   "name": "python3"
  },
  "language_info": {
   "codemirror_mode": {
    "name": "ipython",
    "version": 3
   },
   "file_extension": ".py",
   "mimetype": "text/x-python",
   "name": "python",
   "nbconvert_exporter": "python",
   "pygments_lexer": "ipython3",
   "version": "3.10.11"
  },
  "orig_nbformat": 4
 },
 "nbformat": 4,
 "nbformat_minor": 2
}
