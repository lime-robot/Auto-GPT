{
 "cells": [
  {
   "cell_type": "code",
   "execution_count": 7,
   "metadata": {},
   "outputs": [],
   "source": [
    "import sys\n",
    "sys.path.append('../')\n",
    "\n",
    "from autogpt.config import Config\n",
    "from autogpt.commands.command import command\n",
    "import json\n",
    "import requests\n",
    "import yaml\n",
    "\n",
    "from duckduckgo_search import ddg\n",
    "\n",
    "\n",
    "CFG = Config()"
   ]
  },
  {
   "attachments": {},
   "cell_type": "markdown",
   "metadata": {},
   "source": [
    "## NAVER MAP API\n",
    "https://developers.naver.com/docs/serviceapi/search/movie/movie.md#%EC%98%81%ED%99%94"
   ]
  },
  {
   "cell_type": "code",
   "execution_count": 10,
   "metadata": {},
   "outputs": [],
   "source": [
    "import json\n",
    "import urllib\n",
    "from urllib.request import Request, urlopen\n",
    "\n",
    "def get_lng_lat_by_address(address):\n",
    "    client_id = CFG.naver_api_id\n",
    "    client_secret = CFG.naver_api_client_secret \n",
    "    url = f\"https://naveropenapi.apigw.ntruss.com/map-geocode/v2/geocode?query=\" \\\n",
    "    \t\t\t+ urllib.parse.quote(address)\n",
    "    \n",
    "    request = urllib.request.Request(url)\n",
    "    request.add_header('X-NCP-APIGW-API-KEY-ID', client_id)\n",
    "    request.add_header('X-NCP-APIGW-API-KEY', client_secret)\n",
    "    response = urlopen(request)\n",
    "    res = response.getcode()\n",
    "    \n",
    "    if (res == 200):\n",
    "        response_body = response.read().decode('utf-8')\n",
    "        response_body = json.loads(response_body)\n",
    "        print(response_body)\n",
    "\n",
    "        if response_body['meta']['totalCount'] == 1 : \n",
    "            lng = response_body['addresses'][0]['x']\n",
    "            lat = response_body['addresses'][0]['y']\n",
    "            \n",
    "            return (lng, lat)\n",
    "        else:\n",
    "            print('address does not exist')\n",
    "        \n",
    "    else:\n",
    "        print(f'address: {address} Error Code: {res}')\n"
   ]
  },
  {
   "cell_type": "code",
   "execution_count": 21,
   "metadata": {},
   "outputs": [
    {
     "name": "stdout",
     "output_type": "stream",
     "text": [
      "{'status': 'OK', 'meta': {'totalCount': 0, 'count': 0}, 'addresses': [], 'errorMessage': ''}\n",
      "address does not exist\n",
      "{'status': 'OK', 'meta': {'totalCount': 0, 'count': 0}, 'addresses': [], 'errorMessage': ''}\n",
      "address does not exist\n"
     ]
    }
   ],
   "source": [
    "start = '강'\n",
    "goal = '역삼역'\n",
    "waypoint = ''\n",
    "\n",
    "start = get_lng_lat_by_address(start)\n",
    "end = get_lng_lat_by_address(goal)\n",
    "# waypoint = get_lng_lat_by_address(waypoint)"
   ]
  },
  {
   "cell_type": "code",
   "execution_count": 18,
   "metadata": {},
   "outputs": [],
   "source": [
    "def get_optimal_route_5(start, goal, waypoints=None, option=''):\n",
    "    assert start, 'start must be a tuple of (lng, lat)'\n",
    "    assert goal, 'goal must be a tuple of (lng, lat)'\n",
    "\n",
    "    assert len(start) == 2, 'start must be a tuple of (lng, lat)'\n",
    "    assert len(goal) == 2, 'goal must be a tuple of (lng, lat)'\n",
    "\n",
    "    waypoints = '|'.join([f\"{point[0]},{point[1]}\" for point in waypoints]) if waypoints else ''\n",
    "    url = f\"https://naveropenapi.apigw.ntruss.com/map-direction-5/v1/driving?start={start[0]},{start[1]}&goal={goal[0]},{goal[1]}&waypoints={waypoints}&option={option}\"\n",
    "\n",
    "    client_id = CFG.naver_api_id\n",
    "    client_secret = CFG.naver_api_client_secret\n",
    "    \n",
    "    request = urllib.request.Request(url)\n",
    "    request.add_header('X-NCP-APIGW-API-KEY-ID', client_id)\n",
    "    request.add_header('X-NCP-APIGW-API-KEY', client_secret)\n",
    "    \n",
    "    response = urllib.request.urlopen(request)\n",
    "    rescode = response.getcode()\n",
    "    \n",
    "    if (rescode == 200):\n",
    "        response_body = response.read().decode('utf-8')\n",
    "        return json.loads(response_body)\n",
    "    else:\n",
    "        print(f'start: {start} goal: {goal}, waypoints: {waypoints}, Error Code: {rescode}')\n",
    "        return None\n",
    "\n",
    "def get_optimal_route_15(start, goal, waypoints=None, option=''):\n",
    "    assert start, 'start must be a tuple of (lng, lat)'\n",
    "    assert goal, 'goal must be a tuple of (lng, lat)'\n",
    "\n",
    "    assert len(start) == 2, 'start must be a tuple of (lng, lat)'\n",
    "    assert len(goal) == 2, 'goal must be a tuple of (lng, lat)'\n",
    "\n",
    "    waypoints = '|'.join([f\"{point[0]},{point[1]}\" for point in waypoints]) if waypoints else ''\n",
    "    url = f\"https://naveropenapi.apigw.ntruss.com/map-direction-15/v1/driving?start={start[0]},{start[1]}&goal={goal[0]},{goal[1]}&waypoints={waypoints}&option={option}\"\n",
    "\n",
    "    client_id = CFG.naver_api_id\n",
    "    client_secret = CFG.naver_api_client_secret\n",
    "    \n",
    "    request = urllib.request.Request(url)\n",
    "    request.add_header('X-NCP-APIGW-API-KEY-ID', client_id)\n",
    "    request.add_header('X-NCP-APIGW-API-KEY', client_secret)\n",
    "    \n",
    "    response = urllib.request.urlopen(request)\n",
    "    rescode = response.getcode()\n",
    "    \n",
    "    if (rescode == 200):\n",
    "        response_body = response.read().decode('utf-8')\n",
    "        return json.loads(response_body)\n",
    "    else:\n",
    "        print(f'start: {start} goal: {goal}, waypoints: {waypoints}, Error Code: {rescode}')\n",
    "        return None"
   ]
  },
  {
   "cell_type": "code",
   "execution_count": 19,
   "metadata": {},
   "outputs": [],
   "source": [
    "start"
   ]
  },
  {
   "cell_type": "code",
   "execution_count": 17,
   "metadata": {},
   "outputs": [
    {
     "ename": "AssertionError",
     "evalue": "start must be a tuple of (lng, lat)",
     "output_type": "error",
     "traceback": [
      "\u001b[0;31m---------------------------------------------------------------------------\u001b[0m",
      "\u001b[0;31mAssertionError\u001b[0m                            Traceback (most recent call last)",
      "Cell \u001b[0;32mIn[17], line 1\u001b[0m\n\u001b[0;32m----> 1\u001b[0m get_optimal_route_5(start, goal)\n",
      "Cell \u001b[0;32mIn[16], line 2\u001b[0m, in \u001b[0;36mget_optimal_route_5\u001b[0;34m(start, goal, waypoints, option)\u001b[0m\n\u001b[1;32m      1\u001b[0m \u001b[39mdef\u001b[39;00m \u001b[39mget_optimal_route_5\u001b[39m(start, goal, waypoints\u001b[39m=\u001b[39m\u001b[39mNone\u001b[39;00m, option\u001b[39m=\u001b[39m\u001b[39m'\u001b[39m\u001b[39m'\u001b[39m):\n\u001b[0;32m----> 2\u001b[0m     \u001b[39massert\u001b[39;00m start, \u001b[39m'\u001b[39m\u001b[39mstart must be a tuple of (lng, lat)\u001b[39m\u001b[39m'\u001b[39m\n\u001b[1;32m      3\u001b[0m     \u001b[39massert\u001b[39;00m goal, \u001b[39m'\u001b[39m\u001b[39mgoal must be a tuple of (lng, lat)\u001b[39m\u001b[39m'\u001b[39m\n\u001b[1;32m      5\u001b[0m     \u001b[39massert\u001b[39;00m \u001b[39mlen\u001b[39m(start) \u001b[39m==\u001b[39m \u001b[39m2\u001b[39m, \u001b[39m'\u001b[39m\u001b[39mstart must be a tuple of (lng, lat)\u001b[39m\u001b[39m'\u001b[39m\n",
      "\u001b[0;31mAssertionError\u001b[0m: start must be a tuple of (lng, lat)"
     ]
    }
   ],
   "source": [
    "\n",
    "get_optimal_route_5(start, goal)\n"
   ]
  },
  {
   "cell_type": "code",
   "execution_count": null,
   "metadata": {},
   "outputs": [],
   "source": []
  }
 ],
 "metadata": {
  "kernelspec": {
   "display_name": "Python 3",
   "language": "python",
   "name": "python3"
  },
  "language_info": {
   "codemirror_mode": {
    "name": "ipython",
    "version": 3
   },
   "file_extension": ".py",
   "mimetype": "text/x-python",
   "name": "python",
   "nbconvert_exporter": "python",
   "pygments_lexer": "ipython3",
   "version": "3.10.9"
  },
  "orig_nbformat": 4
 },
 "nbformat": 4,
 "nbformat_minor": 2
}
